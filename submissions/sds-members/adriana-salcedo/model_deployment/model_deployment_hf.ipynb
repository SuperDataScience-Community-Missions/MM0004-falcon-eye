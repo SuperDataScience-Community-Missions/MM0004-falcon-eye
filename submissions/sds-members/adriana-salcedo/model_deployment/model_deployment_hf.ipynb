{
 "cells": [
  {
   "cell_type": "markdown",
   "id": "ecc4b489-1577-4b06-87f7-12129edc711a",
   "metadata": {},
   "source": [
    "# Model Deployment"
   ]
  },
  {
   "cell_type": "markdown",
   "id": "36a672eb-4940-453d-b39d-9c59d45ec045",
   "metadata": {},
   "source": [
    "## Load Trained Model Random Forest"
   ]
  },
  {
   "cell_type": "code",
   "execution_count": 11,
   "id": "a1259c2a-052a-4765-ad8c-ed6dedef7c0c",
   "metadata": {},
   "outputs": [],
   "source": [
    "import numpy as np\n",
    "import pandas as pd\n",
    "import joblib\n",
    "import gradio as gr"
   ]
  },
  {
   "cell_type": "code",
   "execution_count": 5,
   "id": "f1e558e4-2442-4b2e-87f9-d892f39ba268",
   "metadata": {},
   "outputs": [
    {
     "name": "stdout",
     "output_type": "stream",
     "text": [
      "Model and threshold loaded successfully - Threshold:  0.0200\n"
     ]
    }
   ],
   "source": [
    "model_path = '../model_config/best_model/rf_model_bundle.pkl'\n",
    "\n",
    "bundle = joblib.load(model_path)\n",
    "\n",
    "model = bundle['model']\n",
    "threshold = bundle['threshold']\n",
    "\n",
    "print(f'Model and threshold loaded successfully - Threshold: {threshold: .4f}')"
   ]
  },
  {
   "cell_type": "code",
   "execution_count": 9,
   "id": "8ee35af1-7265-43f9-b1cc-6cf7ab2b59e5",
   "metadata": {},
   "outputs": [
    {
     "name": "stdout",
     "output_type": "stream",
     "text": [
      "['step' 'type' 'amount' 'oldbalanceOrig' 'newbalanceOrig'\n",
      " 'balanceChangeOrig' 'OrigEmptyBefore' 'OrigEmptyAfter' 'oldbalanceDest'\n",
      " 'newbalanceDest' 'balanceChangeDest' 'DestEmptyBefore' 'DestEmptyAfter'\n",
      " 'nameDest_freq' 'nameDest_fraud_rate']\n"
     ]
    }
   ],
   "source": [
    "preprocessor = model.named_steps[\"preprocessor\"]\n",
    "\n",
    "original_input_features = preprocessor.feature_names_in_\n",
    "\n",
    "print(original_input_features)\n"
   ]
  },
  {
   "cell_type": "markdown",
   "id": "2740095f-cfb4-4007-9167-07ead2168f4f",
   "metadata": {},
   "source": [
    "## Run sample prediction"
   ]
  },
  {
   "cell_type": "code",
   "execution_count": 12,
   "id": "512bd6aa-1215-47ea-b3a1-9cd897ecfabb",
   "metadata": {},
   "outputs": [
    {
     "name": "stdout",
     "output_type": "stream",
     "text": [
      "Prediction: Not Fraud (Probability: 0.00)\n"
     ]
    }
   ],
   "source": [
    "X_sample = pd.DataFrame([{\n",
    "    \"step\": 1,\n",
    "    \"amount\": 5000.0,\n",
    "    \"oldbalanceOrig\": 10000.0,\n",
    "    \"newbalanceOrig\": 5000.0,\n",
    "    \"oldbalanceDest\": 0.0,\n",
    "    \"newbalanceDest\": 0.0,\n",
    "    \"balanceChangeOrig\": 5000.0,\n",
    "    \"balanceChangeDest\": 0.0,\n",
    "    \"nameDest_freq\": 0.0,\n",
    "    \"nameDest_fraud_rate\": 0.0,\n",
    "    \"type\": \"CASH_OUT\",\n",
    "    \"OrigEmptyBefore\": 0,\n",
    "    \"OrigEmptyAfter\": 0,\n",
    "    \"DestEmptyBefore\": 0,\n",
    "    \"DestEmptyAfter\": 0\n",
    "}])\n",
    "\n",
    "proba = model.predict_proba(X_sample)[0][1]\n",
    "pred = int(proba >= threshold)\n",
    "label = \"Fraud\" if pred else \"Not Fraud\"\n",
    "\n",
    "print(f\"Prediction: {label} (Probability: {proba:.2f})\")"
   ]
  },
  {
   "cell_type": "markdown",
   "id": "72b54833-347f-4ac2-8b11-0761ad674d09",
   "metadata": {},
   "source": [
    "## Gradio UI"
   ]
  },
  {
   "cell_type": "code",
   "execution_count": 13,
   "id": "c5414976-4b34-4eb4-baa1-12dda3538448",
   "metadata": {},
   "outputs": [],
   "source": [
    "def predict_fraud(step, amount, oldbalanceOrig, newbalanceOrig,\n",
    "                  oldbalanceDest, newbalanceDest,\n",
    "                  nameDest_freq, nameDest_fraud_rate,\n",
    "                  type, OrigEmptyBefore, OrigEmptyAfter, DestEmptyBefore, DestEmptyAfter):\n",
    "    balanceChangeOrig = oldbalanceOrig - newbalanceOrig\n",
    "    balanceChangeDest = newbalanceDest - oldbalanceDest\n",
    "\n",
    "    X = pd.DataFrame([{\n",
    "        \"step\": step,\n",
    "        \"amount\": amount,\n",
    "        \"oldbalanceOrig\": oldbalanceOrig,\n",
    "        \"newbalanceOrig\": newbalanceOrig,\n",
    "        \"oldbalanceDest\": oldbalanceDest,\n",
    "        \"newbalanceDest\": newbalanceDest,\n",
    "        \"balanceChangeOrig\": balanceChangeOrig,\n",
    "        \"balanceChangeDest\": balanceChangeDest,\n",
    "        \"nameDest_freq\": nameDest_freq,\n",
    "        \"nameDest_fraud_rate\": nameDest_fraud_rate,\n",
    "        \"type\": type,\n",
    "        \"OrigEmptyBefore\": OrigEmptyBefore,\n",
    "        \"OrigEmptyAfter\": OrigEmptyAfter,\n",
    "        \"DestEmptyBefore\": DestEmptyBefore,\n",
    "        \"DestEmptyAfter\": DestEmptyAfter\n",
    "    }])\n",
    "\n",
    "    prob = model.predict_proba(X)[0][1]\n",
    "    pred = int(prob >= threshold)\n",
    "    return f\"{'Fraud' if pred else 'Not Fraud'} (Probability: {prob:.2f})\"\n"
   ]
  },
  {
   "cell_type": "code",
   "execution_count": 17,
   "id": "5ab1f0f6-5b48-4156-ae2f-b84f9084683e",
   "metadata": {},
   "outputs": [],
   "source": [
    "demo = gr.Interface(\n",
    "    fn=predict_fraud,\n",
    "    inputs=[\n",
    "        gr.Number(label=\"Transaction Step\", info=\"Time unit since system start\"),\n",
    "        gr.Number(label=\"Transaction Amount ($)\", info=\"Total amount of the transaction\"),\n",
    "        gr.Number(label=\"Sender's Balance Before\", info=\"Balance before transaction\"),\n",
    "        gr.Number(label=\"Sender's Balance After\", info=\"Balance after transaction\"),\n",
    "        gr.Number(label=\"Recipient's Balance Before\", info=\"Recipient balance before transaction\"),\n",
    "        gr.Number(label=\"Recipient's Balance After\", info=\"Recipient balance after transaction\"),\n",
    "        gr.Number(label=\"Recipient Account Frequency\", info=\"Number of prior transactions to recipient\"),\n",
    "        gr.Number(label=\"Recipient Fraud Rate\", info=\"Historical fraud rate for recipient (0–1)\"),\n",
    "        gr.Radio([\"CASH_OUT\", \"TRANSFER\", \"PAYMENT\", \"CASH_IN\"], label=\"Transaction Type\", info=\"CASH_OUT & TRANSFER are riskier\"),\n",
    "        gr.Radio([0, 1], label=\"Sender Balance Empty Before?\", info=\"1 = Yes, 0 = No\"),\n",
    "        gr.Radio([0, 1], label=\"Sender Balance Empty After?\", info=\"1 = Yes, 0 = No\"),\n",
    "        gr.Radio([0, 1], label=\"Recipient Balance Empty Before?\", info=\"1 = Yes, 0 = No\"),\n",
    "        gr.Radio([0, 1], label=\"Recipient Balance Empty After?\", info=\"1 = Yes, 0 = No\"),\n",
    "    ],\n",
    "    outputs=\"text\",\n",
    "    title=\"💸 Fraud Detection App (Random Forest)\",\n",
    "    description=\"Enter transaction data to predict the likelihood of fraud using a trained ML model.\",\n",
    ")"
   ]
  },
  {
   "cell_type": "code",
   "execution_count": 18,
   "id": "6338df76-e702-450a-8553-8416c886863d",
   "metadata": {},
   "outputs": [
    {
     "name": "stdout",
     "output_type": "stream",
     "text": [
      "* Running on local URL:  http://127.0.0.1:7861\n",
      "\n",
      "To create a public link, set `share=True` in `launch()`.\n"
     ]
    },
    {
     "data": {
      "text/html": [
       "<div><iframe src=\"http://127.0.0.1:7861/\" width=\"100%\" height=\"500\" allow=\"autoplay; camera; microphone; clipboard-read; clipboard-write;\" frameborder=\"0\" allowfullscreen></iframe></div>"
      ],
      "text/plain": [
       "<IPython.core.display.HTML object>"
      ]
     },
     "metadata": {},
     "output_type": "display_data"
    },
    {
     "data": {
      "text/plain": []
     },
     "execution_count": 18,
     "metadata": {},
     "output_type": "execute_result"
    }
   ],
   "source": [
    "demo.launch()"
   ]
  }
 ],
 "metadata": {
  "kernelspec": {
   "display_name": "Python 3 (ipykernel)",
   "language": "python",
   "name": "python3"
  },
  "language_info": {
   "codemirror_mode": {
    "name": "ipython",
    "version": 3
   },
   "file_extension": ".py",
   "mimetype": "text/x-python",
   "name": "python",
   "nbconvert_exporter": "python",
   "pygments_lexer": "ipython3",
   "version": "3.11.4"
  }
 },
 "nbformat": 4,
 "nbformat_minor": 5
}
